{
  "nbformat": 4,
  "nbformat_minor": 0,
  "metadata": {
    "colab": {
      "provenance": []
    },
    "kernelspec": {
      "name": "python3",
      "display_name": "Python 3"
    },
    "language_info": {
      "name": "python"
    }
  },
  "cells": [
    {
      "cell_type": "markdown",
      "source": [
        "# Data Science Tools and Ecosystem"
      ],
      "metadata": {
        "id": "vGBKeqas_Ee4"
      }
    },
    {
      "cell_type": "markdown",
      "source": [
        "In this notebook, Data Science Tools and Ecosystem are summarized."
      ],
      "metadata": {
        "id": "fLjspdF6Ab3Q"
      }
    },
    {
      "cell_type": "markdown",
      "source": [
        "__Objectives:__\n",
        "* Python\n",
        "* R\n",
        "* SQL\n",
        "* Scala\n",
        "* Java"
      ],
      "metadata": {
        "id": "Sya3khAFG_i4"
      }
    },
    {
      "cell_type": "markdown",
      "source": [
        "Some of the popular languages that Data Scientists use are:\n",
        "1. Python\n",
        "2. R\n",
        "3. SQL"
      ],
      "metadata": {
        "id": "sopmExN5BRq5"
      }
    },
    {
      "cell_type": "markdown",
      "source": [
        "Some of the commonly used libraries used by Data Scientists include:\n",
        "1. Numpy\n",
        "2. Pandas\n",
        "3. Matplotlib"
      ],
      "metadata": {
        "id": "YAL7sKWKCUBI"
      }
    },
    {
      "cell_type": "markdown",
      "source": [
        "| Data Science Tools |\n",
        "| ------- |\n",
        "| Jupyter |\n",
        "| RStudio |\n",
        "| Apache Cassandra |"
      ],
      "metadata": {
        "id": "djJsTOmcDXc4"
      }
    },
    {
      "cell_type": "markdown",
      "source": [
        "### Below are a few examples of evaluating arithmetic expressions in Python"
      ],
      "metadata": {
        "id": "2iv9YaLEFOyE"
      }
    },
    {
      "cell_type": "markdown",
      "source": [
        "This a simple arithmetic expression to mutiply then add integers"
      ],
      "metadata": {
        "id": "4QuFo1lqF7nd"
      }
    },
    {
      "cell_type": "code",
      "execution_count": 2,
      "metadata": {
        "colab": {
          "base_uri": "https://localhost:8080/"
        },
        "id": "VH3W3Ozd-pwJ",
        "outputId": "e73a1b7d-380e-4c7a-e7c9-2032f7aad3c4"
      },
      "outputs": [
        {
          "output_type": "execute_result",
          "data": {
            "text/plain": [
              "17"
            ]
          },
          "metadata": {},
          "execution_count": 2
        }
      ],
      "source": [
        "(3*4)+5"
      ]
    },
    {
      "cell_type": "markdown",
      "source": [
        " This will convert 200 minutes to hours by diving by 60"
      ],
      "metadata": {
        "id": "_Imb9xJYGX62"
      }
    },
    {
      "cell_type": "code",
      "source": [
        "200/60"
      ],
      "metadata": {
        "colab": {
          "base_uri": "https://localhost:8080/"
        },
        "id": "hQOgdmWFGDOh",
        "outputId": "62080935-26e3-4a45-fe30-db468d1bd48d"
      },
      "execution_count": 3,
      "outputs": [
        {
          "output_type": "execute_result",
          "data": {
            "text/plain": [
              "3.3333333333333335"
            ]
          },
          "metadata": {},
          "execution_count": 3
        }
      ]
    },
    {
      "cell_type": "markdown",
      "source": [
        "## Author\n",
        "Sahib"
      ],
      "metadata": {
        "id": "HAMVYZg1IXtQ"
      }
    },
    {
      "cell_type": "code",
      "source": [],
      "metadata": {
        "id": "ZvwwkZlBGhqH"
      },
      "execution_count": null,
      "outputs": []
    }
  ]
}